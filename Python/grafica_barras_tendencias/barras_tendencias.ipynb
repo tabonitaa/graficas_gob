{
 "cells": [
  {
   "cell_type": "markdown",
   "id": "b71af3d8",
   "metadata": {},
   "source": [
    "# Gráfica de barras de tendencia"
   ]
  },
  {
   "cell_type": "code",
   "execution_count": 1,
   "id": "59eb8f4d",
   "metadata": {},
   "outputs": [],
   "source": [
    "import pandas as pd\n",
    "import numpy as np\n",
    "import matplotlib.pyplot as plt\n",
    "import os"
   ]
  },
  {
   "cell_type": "code",
   "execution_count": 3,
   "id": "77252526",
   "metadata": {},
   "outputs": [],
   "source": [
    "# Crear datos simulados para varios estados\n",
    "estados = ['Jalisco', 'CDMX', 'Nuevo León']\n",
    "fechas = pd.date_range(start='2010-01-01', end='2025-01-01', freq='MS')\n",
    "data = []\n",
    "\n",
    "np.random.seed(42)\n",
    "for estado in estados:\n",
    "    for fecha in fechas:\n",
    "        con_datos = np.random.randint(10, 100)\n",
    "        sin_datos = np.random.randint(0, 20)\n",
    "        data.append({\n",
    "            'estado': estado,\n",
    "            'fecha': fecha,\n",
    "            'indicador': 'Con datos',\n",
    "            'valor': con_datos\n",
    "        })\n",
    "        data.append({\n",
    "            'estado': estado,\n",
    "            'fecha': fecha,\n",
    "            'indicador': 'Sin datos',\n",
    "            'valor': sin_datos\n",
    "        })\n",
    "\n",
    "df = pd.DataFrame(data)"
   ]
  },
  {
   "cell_type": "code",
   "execution_count": 6,
   "id": "9b0b2c6f",
   "metadata": {},
   "outputs": [],
   "source": [
    "import subprocess\n",
    "\n",
    "def limpiar_svg_con_scour(archivo_entrada, archivo_salida):\n",
    "    subprocess.run([\n",
    "        'scour', '-i', archivo_entrada, '-o', archivo_salida,\n",
    "        '--enable-viewboxing', '--enable-id-stripping',\n",
    "        '--shorten-ids', '--remove-descriptive-elements'\n",
    "    ], check=True)\n",
    "\n",
    "def limpiar_svg_con_svgo(archivo_entrada, archivo_salida):\n",
    "    subprocess.run(['svgo', archivo_entrada, '-o', archivo_salida], check=True)\n"
   ]
  },
  {
   "cell_type": "code",
   "execution_count": 7,
   "id": "a5c46157",
   "metadata": {},
   "outputs": [
    {
     "name": "stdout",
     "output_type": "stream",
     "text": [
      "Scour processed file \"/Users/tabatagarcia/Desktop/plantillas/python/grafica_barras_tendencias/Jalisco_grafica_barras_tendencias.svg\" in 188 ms: 55426/111611 bytes new/orig -> 49.7%\n",
      "\n",
      "Jalisco_grafica_barras_tendencias_scour.svg:\n",
      "Done in 149 ms!\n",
      "54.127 KiB - \u001b[32m39.5%\u001b[39m = 32.743 KiB\n",
      "Scour processed file \"/Users/tabatagarcia/Desktop/plantillas/python/grafica_barras_tendencias/CDMX_grafica_barras_tendencias.svg\" in 183 ms: 55591/111909 bytes new/orig -> 49.7%\n",
      "\n",
      "CDMX_grafica_barras_tendencias_scour.svg:\n",
      "Done in 151 ms!\n",
      "54.288 KiB - \u001b[32m39.4%\u001b[39m = 32.884 KiB\n",
      "Scour processed file \"/Users/tabatagarcia/Desktop/plantillas/python/grafica_barras_tendencias/Nuevo_León_grafica_barras_tendencias.svg\" in 183 ms: 56733/114101 bytes new/orig -> 49.7%\n",
      "\n",
      "Nuevo_León_grafica_barras_tendencias_scour.svg:\n",
      "Done in 145 ms!\n",
      "55.403 KiB - \u001b[32m38.7%\u001b[39m = 33.978 KiB\n"
     ]
    }
   ],
   "source": [
    "import os\n",
    "import matplotlib.pyplot as plt\n",
    "\n",
    "output_dir = os.path.expanduser(\"~/Desktop/plantillas/python/grafica_barras_tendencias\")\n",
    "os.makedirs(output_dir, exist_ok=True)\n",
    "\n",
    "for estado in estados:\n",
    "    fig, ax = plt.subplots(figsize=(12, 6))\n",
    "    df_estado = df[df['estado'] == estado]\n",
    "    pivot_df = df_estado.pivot(index='fecha', columns='indicador', values='valor').fillna(0)\n",
    "    pivot_df[['Con datos', 'Sin datos']].plot(kind='bar', stacked=True, color=[\"#584290\", \"#b1adcf\"], ax=ax, width=1)\n",
    "\n",
    "    ax.set_title(f'{estado} - Casos con y sin datos', fontsize=14, fontweight='bold')\n",
    "    ax.set_xlabel('Fecha')\n",
    "    ax.set_ylabel('Número de casos')\n",
    "    ax.set_xticks(range(0, len(pivot_df), 12))\n",
    "    ax.set_xticklabels([date.strftime('%Y') for date in pivot_df.index[::12]], rotation=45, fontsize=8)\n",
    "    ax.legend(title='')\n",
    "    ax.grid(False)\n",
    "    plt.tight_layout()\n",
    "\n",
    "    file_base = os.path.join(output_dir, f\"{estado.replace(' ', '_')}_grafica_barras_tendencias\")\n",
    "    svg_path = f\"{file_base}.svg\"\n",
    "    svg_limpio_path = f\"{file_base}_scour.svg\"\n",
    "    svg_final_path = f\"{file_base}_svgo.svg\"\n",
    "\n",
    "    fig.savefig(f\"{file_base}.png\", format=\"png\", bbox_inches='tight', dpi=300)\n",
    "    fig.savefig(svg_path, format=\"svg\", bbox_inches='tight', dpi=300)\n",
    "    plt.close(fig)\n",
    "\n",
    "    # Limpieza con scour y svgo\n",
    "    try:\n",
    "        limpiar_svg_con_scour(svg_path, svg_limpio_path)\n",
    "    except Exception as e:\n",
    "        print(f\"Error al limpiar con Scour para {estado}: {e}\")\n",
    "\n",
    "    try:\n",
    "        limpiar_svg_con_svgo(svg_limpio_path, svg_final_path)\n",
    "    except Exception as e:\n",
    "        print(f\"Error al limpiar con SVGO para {estado}: {e}\")\n"
   ]
  }
 ],
 "metadata": {
  "kernelspec": {
   "display_name": "webscraping_env",
   "language": "python",
   "name": "python3"
  },
  "language_info": {
   "codemirror_mode": {
    "name": "ipython",
    "version": 3
   },
   "file_extension": ".py",
   "mimetype": "text/x-python",
   "name": "python",
   "nbconvert_exporter": "python",
   "pygments_lexer": "ipython3",
   "version": "3.12.2"
  }
 },
 "nbformat": 4,
 "nbformat_minor": 5
}
